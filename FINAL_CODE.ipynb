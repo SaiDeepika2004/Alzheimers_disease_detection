{
  "nbformat": 4,
  "nbformat_minor": 0,
  "metadata": {
    "colab": {
      "provenance": [],
      "gpuType": "V28",
      "authorship_tag": "ABX9TyO36JjHSipMh04G2Qjuq2d5",
      "include_colab_link": true
    },
    "kernelspec": {
      "name": "python3",
      "display_name": "Python 3"
    },
    "language_info": {
      "name": "python"
    },
    "accelerator": "TPU"
  },
  "cells": [
    {
      "cell_type": "markdown",
      "metadata": {
        "id": "view-in-github",
        "colab_type": "text"
      },
      "source": [
        "<a href=\"https://colab.research.google.com/github/SaiDeepika2004/Alzheimers_disease_detection/blob/main/FINAL_CODE.ipynb\" target=\"_parent\"><img src=\"https://colab.research.google.com/assets/colab-badge.svg\" alt=\"Open In Colab\"/></a>"
      ]
    },
    {
      "cell_type": "code",
      "source": [
        "!pip install imblearn"
      ],
      "metadata": {
        "colab": {
          "base_uri": "https://localhost:8080/"
        },
        "id": "BSL2kCZiwsne",
        "outputId": "9796eb05-2ca7-4dd3-9a1f-878e69a0949b"
      },
      "execution_count": 1,
      "outputs": [
        {
          "output_type": "stream",
          "name": "stdout",
          "text": [
            "Requirement already satisfied: imblearn in /usr/local/lib/python3.11/dist-packages (0.0)\n",
            "Requirement already satisfied: imbalanced-learn in /usr/local/lib/python3.11/dist-packages (from imblearn) (0.13.0)\n",
            "Requirement already satisfied: numpy<3,>=1.24.3 in /usr/local/lib/python3.11/dist-packages (from imbalanced-learn->imblearn) (1.26.4)\n",
            "Requirement already satisfied: scipy<2,>=1.10.1 in /usr/local/lib/python3.11/dist-packages (from imbalanced-learn->imblearn) (1.13.1)\n",
            "Requirement already satisfied: scikit-learn<2,>=1.3.2 in /usr/local/lib/python3.11/dist-packages (from imbalanced-learn->imblearn) (1.6.1)\n",
            "Requirement already satisfied: sklearn-compat<1,>=0.1 in /usr/local/lib/python3.11/dist-packages (from imbalanced-learn->imblearn) (0.1.3)\n",
            "Requirement already satisfied: joblib<2,>=1.1.1 in /usr/local/lib/python3.11/dist-packages (from imbalanced-learn->imblearn) (1.4.2)\n",
            "Requirement already satisfied: threadpoolctl<4,>=2.0.0 in /usr/local/lib/python3.11/dist-packages (from imbalanced-learn->imblearn) (3.5.0)\n"
          ]
        }
      ]
    },
    {
      "cell_type": "code",
      "source": [
        "import numpy as np\n",
        "import pandas as pd\n",
        "from sklearn.model_selection import train_test_split\n",
        "from sklearn.tree import DecisionTreeClassifier\n",
        "from sklearn.ensemble import RandomForestClassifier\n",
        "from sklearn.preprocessing import StandardScaler, LabelEncoder\n",
        "from imblearn.over_sampling import SMOTE\n",
        "import tensorflow as tf\n",
        "from tensorflow.keras.models import Model\n",
        "from tensorflow.keras.layers import Dense, Conv1D, Flatten, Dropout, Input, Concatenate, BatchNormalization\n",
        "from tensorflow.keras.callbacks import EarlyStopping, ReduceLROnPlateau\n",
        "from tensorflow.keras.regularizers import l2\n",
        "from sklearn.metrics import classification_report, confusion_matrix"
      ],
      "metadata": {
        "id": "7gWYZQzkwpLl"
      },
      "execution_count": 2,
      "outputs": []
    },
    {
      "cell_type": "code",
      "source": [
        "# Load dataset\n",
        "df = pd.read_csv(\"alzheimers_disease_data.csv\")\n",
        "\n",
        "# Drop non-relevant columns\n",
        "df.drop(columns=[\"PatientID\", \"DoctorInCharge\"], inplace=True)"
      ],
      "metadata": {
        "id": "ulxIzCplybUJ"
      },
      "execution_count": 3,
      "outputs": []
    },
    {
      "cell_type": "code",
      "source": [
        "# Encode categorical variables\n",
        "le = LabelEncoder()\n",
        "categorical_columns = [\"Gender\", \"Ethnicity\"]\n",
        "for col in categorical_columns:\n",
        "    df[col] = le.fit_transform(df[col])\n",
        "\n",
        "# Split features and target\n",
        "X = df.drop(columns=[\"Diagnosis\"])\n",
        "y = df[\"Diagnosis\"]"
      ],
      "metadata": {
        "id": "yp88DJfwyeKH"
      },
      "execution_count": 4,
      "outputs": []
    },
    {
      "cell_type": "code",
      "source": [
        "# Standardize numerical features\n",
        "scaler = StandardScaler()\n",
        "X_scaled = scaler.fit_transform(X)"
      ],
      "metadata": {
        "id": "co6lwNrUygxS"
      },
      "execution_count": 5,
      "outputs": []
    },
    {
      "cell_type": "code",
      "source": [
        "# Handle Class Imbalance using SMOTE\n",
        "smote = SMOTE(random_state=42)\n",
        "X_resampled, y_resampled = smote.fit_resample(X_scaled, y)"
      ],
      "metadata": {
        "id": "FfGjP7wEyjJJ"
      },
      "execution_count": 6,
      "outputs": []
    },
    {
      "cell_type": "code",
      "source": [
        "# Train-Test Split\n",
        "X_train, X_test, y_train, y_test = train_test_split(X_resampled, y_resampled, test_size=0.2, random_state=42, stratify=y_resampled)"
      ],
      "metadata": {
        "id": "lLFt0ZULylgR"
      },
      "execution_count": 7,
      "outputs": []
    },
    {
      "cell_type": "code",
      "source": [
        "# Feature Selection using Decision Tree\n",
        "dt = DecisionTreeClassifier(random_state=42, max_depth=10, min_samples_split=5)\n",
        "dt.fit(X_train, y_train)\n",
        "dt_top_features = set(np.argsort(dt.feature_importances_)[-20:])"
      ],
      "metadata": {
        "id": "nreVYgdKypKm"
      },
      "execution_count": 8,
      "outputs": []
    },
    {
      "cell_type": "code",
      "source": [
        "# Feature Selection using Random Forest\n",
        "rf = RandomForestClassifier(n_estimators=500, random_state=42, max_depth=15, min_samples_split=4, min_samples_leaf=2, n_jobs=-1)\n",
        "rf.fit(X_train, y_train)\n",
        "rf_top_features = set(np.argsort(rf.feature_importances_)[-25:])"
      ],
      "metadata": {
        "id": "Xt10b2Amyre9"
      },
      "execution_count": 9,
      "outputs": []
    },
    {
      "cell_type": "code",
      "source": [
        "# Common features from DT and RF\n",
        "selected_features = list(dt_top_features.intersection(rf_top_features))"
      ],
      "metadata": {
        "id": "UZwXDsREyuA5"
      },
      "execution_count": 10,
      "outputs": []
    },
    {
      "cell_type": "code",
      "source": [
        "X_train_selected = X_train[:, selected_features]\n",
        "X_test_selected = X_test[:, selected_features]\n",
        "\n",
        "# Reshape for CNN input\n",
        "X_train_selected_cnn = X_train_selected.reshape(X_train_selected.shape[0], X_train_selected.shape[1], 1)\n",
        "X_test_selected_cnn = X_test_selected.reshape(X_test_selected.shape[0], X_test_selected.shape[1], 1)"
      ],
      "metadata": {
        "id": "gmrVuBA3ywxZ"
      },
      "execution_count": 11,
      "outputs": []
    },
    {
      "cell_type": "code",
      "source": [
        "# CNN Model\n",
        "cnn_input = Input(shape=(X_train_selected.shape[1], 1))\n",
        "cnn_layer = Conv1D(128, 3, activation='relu', kernel_regularizer=l2(0.0005))(cnn_input)\n",
        "cnn_layer = BatchNormalization()(cnn_layer)\n",
        "cnn_layer = Conv1D(256, 3, activation='relu', kernel_regularizer=l2(0.0005))(cnn_layer)\n",
        "cnn_layer = BatchNormalization()(cnn_layer)\n",
        "cnn_layer = Flatten()(cnn_layer)\n",
        "cnn_layer = Dense(512, activation='relu', kernel_regularizer=l2(0.0005))(cnn_layer)\n",
        "cnn_layer = Dropout(0.4)(cnn_layer)"
      ],
      "metadata": {
        "id": "3UumjVtxy0NE"
      },
      "execution_count": 12,
      "outputs": []
    },
    {
      "cell_type": "code",
      "source": [
        "# ANN Model\n",
        "ann_input = Input(shape=(X_train_selected.shape[1],))\n",
        "ann_layer = Dense(512, activation='relu', kernel_regularizer=l2(0.0005))(ann_input)\n",
        "ann_layer = BatchNormalization()(ann_layer)\n",
        "ann_layer = Dropout(0.4)(ann_layer)\n",
        "ann_layer = Dense(256, activation='relu', kernel_regularizer=l2(0.0005))(ann_layer)\n",
        "ann_layer = Dropout(0.4)(ann_layer)"
      ],
      "metadata": {
        "id": "k8F9nhlhy2vs"
      },
      "execution_count": 13,
      "outputs": []
    },
    {
      "cell_type": "code",
      "source": [
        "# Merge CNN and ANN\n",
        "merged_layer = Concatenate()([cnn_layer, ann_layer])\n",
        "merged_layer = Dense(512, activation='relu', kernel_regularizer=l2(0.0005))(merged_layer)\n",
        "merged_layer = Dropout(0.4)(merged_layer)\n",
        "output_layer = Dense(1, activation='sigmoid')(merged_layer)"
      ],
      "metadata": {
        "id": "1ZKEPFLTy6Qo"
      },
      "execution_count": 14,
      "outputs": []
    },
    {
      "cell_type": "code",
      "source": [
        "# Create Model\n",
        "final_model = Model(inputs=[cnn_input, ann_input], outputs=output_layer)\n",
        "optimizer = tf.keras.optimizers.Adam(learning_rate=0.0003)\n",
        "final_model.compile(optimizer=optimizer, loss='binary_crossentropy', metrics=['accuracy'])"
      ],
      "metadata": {
        "id": "oVbs_-TEy8P6"
      },
      "execution_count": 15,
      "outputs": []
    },
    {
      "cell_type": "code",
      "source": [
        "# Callbacks\n",
        "early_stopping = EarlyStopping(monitor='val_accuracy', patience=30, restore_best_weights=True)\n",
        "reduce_lr = ReduceLROnPlateau(monitor='val_loss', factor=0.1, patience=30, min_lr=1e-6)"
      ],
      "metadata": {
        "id": "hcCOodkmy_iV"
      },
      "execution_count": 16,
      "outputs": []
    },
    {
      "cell_type": "code",
      "source": [
        "# !pip uninstall tensorflow -y\n",
        "# !pip install tensorflow"
      ],
      "metadata": {
        "id": "WEtWqd1OzfdS"
      },
      "execution_count": 17,
      "outputs": []
    },
    {
      "cell_type": "code",
      "source": [
        "# Train Model\n",
        "history = final_model.fit([X_train_selected_cnn, X_train_selected], y_train, epochs=150, batch_size=16, validation_data=([X_test_selected_cnn, X_test_selected], y_test), callbacks=[early_stopping, reduce_lr])"
      ],
      "metadata": {
        "colab": {
          "base_uri": "https://localhost:8080/"
        },
        "id": "z3K0WjeyzDgr",
        "outputId": "1360b387-4ca3-4e25-de98-16fc36d91402"
      },
      "execution_count": 18,
      "outputs": [
        {
          "output_type": "stream",
          "name": "stdout",
          "text": [
            "Epoch 1/150\n",
            "\u001b[1m139/139\u001b[0m \u001b[32m━━━━━━━━━━━━━━━━━━━━\u001b[0m\u001b[37m\u001b[0m \u001b[1m19s\u001b[0m 107ms/step - accuracy: 0.7309 - loss: 1.6756 - val_accuracy: 0.5719 - val_loss: 1.6202 - learning_rate: 3.0000e-04\n",
            "Epoch 2/150\n",
            "\u001b[1m139/139\u001b[0m \u001b[32m━━━━━━━━━━━━━━━━━━━━\u001b[0m\u001b[37m\u001b[0m \u001b[1m15s\u001b[0m 105ms/step - accuracy: 0.8497 - loss: 1.3998 - val_accuracy: 0.7500 - val_loss: 1.4887 - learning_rate: 3.0000e-04\n",
            "Epoch 3/150\n",
            "\u001b[1m139/139\u001b[0m \u001b[32m━━━━━━━━━━━━━━━━━━━━\u001b[0m\u001b[37m\u001b[0m \u001b[1m14s\u001b[0m 101ms/step - accuracy: 0.8739 - loss: 1.3384 - val_accuracy: 0.8147 - val_loss: 1.3840 - learning_rate: 3.0000e-04\n",
            "Epoch 4/150\n",
            "\u001b[1m139/139\u001b[0m \u001b[32m━━━━━━━━━━━━━━━━━━━━\u001b[0m\u001b[37m\u001b[0m \u001b[1m14s\u001b[0m 102ms/step - accuracy: 0.9021 - loss: 1.2574 - val_accuracy: 0.9173 - val_loss: 1.2079 - learning_rate: 3.0000e-04\n",
            "Epoch 5/150\n",
            "\u001b[1m139/139\u001b[0m \u001b[32m━━━━━━━━━━━━━━━━━━━━\u001b[0m\u001b[37m\u001b[0m \u001b[1m14s\u001b[0m 102ms/step - accuracy: 0.9194 - loss: 1.1817 - val_accuracy: 0.9029 - val_loss: 1.2139 - learning_rate: 3.0000e-04\n",
            "Epoch 6/150\n",
            "\u001b[1m139/139\u001b[0m \u001b[32m━━━━━━━━━━━━━━━━━━━━\u001b[0m\u001b[37m\u001b[0m \u001b[1m14s\u001b[0m 103ms/step - accuracy: 0.9401 - loss: 1.1226 - val_accuracy: 0.9173 - val_loss: 1.1648 - learning_rate: 3.0000e-04\n",
            "Epoch 7/150\n",
            "\u001b[1m139/139\u001b[0m \u001b[32m━━━━━━━━━━━━━━━━━━━━\u001b[0m\u001b[37m\u001b[0m \u001b[1m14s\u001b[0m 101ms/step - accuracy: 0.9476 - loss: 1.0656 - val_accuracy: 0.9155 - val_loss: 1.1619 - learning_rate: 3.0000e-04\n",
            "Epoch 8/150\n",
            "\u001b[1m139/139\u001b[0m \u001b[32m━━━━━━━━━━━━━━━━━━━━\u001b[0m\u001b[37m\u001b[0m \u001b[1m14s\u001b[0m 103ms/step - accuracy: 0.9376 - loss: 1.0483 - val_accuracy: 0.9191 - val_loss: 1.1169 - learning_rate: 3.0000e-04\n",
            "Epoch 9/150\n",
            "\u001b[1m139/139\u001b[0m \u001b[32m━━━━━━━━━━━━━━━━━━━━\u001b[0m\u001b[37m\u001b[0m \u001b[1m14s\u001b[0m 102ms/step - accuracy: 0.9543 - loss: 0.9959 - val_accuracy: 0.9281 - val_loss: 1.0917 - learning_rate: 3.0000e-04\n",
            "Epoch 10/150\n",
            "\u001b[1m139/139\u001b[0m \u001b[32m━━━━━━━━━━━━━━━━━━━━\u001b[0m\u001b[37m\u001b[0m \u001b[1m14s\u001b[0m 104ms/step - accuracy: 0.9679 - loss: 0.9396 - val_accuracy: 0.9155 - val_loss: 1.0926 - learning_rate: 3.0000e-04\n",
            "Epoch 11/150\n",
            "\u001b[1m139/139\u001b[0m \u001b[32m━━━━━━━━━━━━━━━━━━━━\u001b[0m\u001b[37m\u001b[0m \u001b[1m14s\u001b[0m 101ms/step - accuracy: 0.9553 - loss: 0.9368 - val_accuracy: 0.9101 - val_loss: 1.1338 - learning_rate: 3.0000e-04\n",
            "Epoch 12/150\n",
            "\u001b[1m139/139\u001b[0m \u001b[32m━━━━━━━━━━━━━━━━━━━━\u001b[0m\u001b[37m\u001b[0m \u001b[1m14s\u001b[0m 100ms/step - accuracy: 0.9685 - loss: 0.8963 - val_accuracy: 0.9263 - val_loss: 1.0509 - learning_rate: 3.0000e-04\n",
            "Epoch 13/150\n",
            "\u001b[1m139/139\u001b[0m \u001b[32m━━━━━━━━━━━━━━━━━━━━\u001b[0m\u001b[37m\u001b[0m \u001b[1m14s\u001b[0m 103ms/step - accuracy: 0.9706 - loss: 0.8676 - val_accuracy: 0.9047 - val_loss: 1.0897 - learning_rate: 3.0000e-04\n",
            "Epoch 14/150\n",
            "\u001b[1m139/139\u001b[0m \u001b[32m━━━━━━━━━━━━━━━━━━━━\u001b[0m\u001b[37m\u001b[0m \u001b[1m14s\u001b[0m 102ms/step - accuracy: 0.9681 - loss: 0.8585 - val_accuracy: 0.9191 - val_loss: 1.0259 - learning_rate: 3.0000e-04\n",
            "Epoch 15/150\n",
            "\u001b[1m139/139\u001b[0m \u001b[32m━━━━━━━━━━━━━━━━━━━━\u001b[0m\u001b[37m\u001b[0m \u001b[1m14s\u001b[0m 101ms/step - accuracy: 0.9660 - loss: 0.8270 - val_accuracy: 0.9281 - val_loss: 0.9974 - learning_rate: 3.0000e-04\n",
            "Epoch 16/150\n",
            "\u001b[1m139/139\u001b[0m \u001b[32m━━━━━━━━━━━━━━━━━━━━\u001b[0m\u001b[37m\u001b[0m \u001b[1m14s\u001b[0m 101ms/step - accuracy: 0.9721 - loss: 0.7981 - val_accuracy: 0.9137 - val_loss: 1.0136 - learning_rate: 3.0000e-04\n",
            "Epoch 17/150\n",
            "\u001b[1m139/139\u001b[0m \u001b[32m━━━━━━━━━━━━━━━━━━━━\u001b[0m\u001b[37m\u001b[0m \u001b[1m14s\u001b[0m 102ms/step - accuracy: 0.9802 - loss: 0.7512 - val_accuracy: 0.9281 - val_loss: 0.9457 - learning_rate: 3.0000e-04\n",
            "Epoch 18/150\n",
            "\u001b[1m139/139\u001b[0m \u001b[32m━━━━━━━━━━━━━━━━━━━━\u001b[0m\u001b[37m\u001b[0m \u001b[1m14s\u001b[0m 102ms/step - accuracy: 0.9729 - loss: 0.7578 - val_accuracy: 0.9137 - val_loss: 0.9651 - learning_rate: 3.0000e-04\n",
            "Epoch 19/150\n",
            "\u001b[1m139/139\u001b[0m \u001b[32m━━━━━━━━━━━━━━━━━━━━\u001b[0m\u001b[37m\u001b[0m \u001b[1m14s\u001b[0m 102ms/step - accuracy: 0.9802 - loss: 0.7122 - val_accuracy: 0.9209 - val_loss: 0.9692 - learning_rate: 3.0000e-04\n",
            "Epoch 20/150\n",
            "\u001b[1m139/139\u001b[0m \u001b[32m━━━━━━━━━━━━━━━━━━━━\u001b[0m\u001b[37m\u001b[0m \u001b[1m14s\u001b[0m 104ms/step - accuracy: 0.9827 - loss: 0.6755 - val_accuracy: 0.9209 - val_loss: 0.9434 - learning_rate: 3.0000e-04\n",
            "Epoch 21/150\n",
            "\u001b[1m139/139\u001b[0m \u001b[32m━━━━━━━━━━━━━━━━━━━━\u001b[0m\u001b[37m\u001b[0m \u001b[1m14s\u001b[0m 102ms/step - accuracy: 0.9812 - loss: 0.6717 - val_accuracy: 0.9317 - val_loss: 0.9124 - learning_rate: 3.0000e-04\n",
            "Epoch 22/150\n",
            "\u001b[1m139/139\u001b[0m \u001b[32m━━━━━━━━━━━━━━━━━━━━\u001b[0m\u001b[37m\u001b[0m \u001b[1m14s\u001b[0m 102ms/step - accuracy: 0.9803 - loss: 0.6582 - val_accuracy: 0.9227 - val_loss: 0.8578 - learning_rate: 3.0000e-04\n",
            "Epoch 23/150\n",
            "\u001b[1m139/139\u001b[0m \u001b[32m━━━━━━━━━━━━━━━━━━━━\u001b[0m\u001b[37m\u001b[0m \u001b[1m14s\u001b[0m 101ms/step - accuracy: 0.9779 - loss: 0.6361 - val_accuracy: 0.9245 - val_loss: 0.8751 - learning_rate: 3.0000e-04\n",
            "Epoch 24/150\n",
            "\u001b[1m139/139\u001b[0m \u001b[32m━━━━━━━━━━━━━━━━━━━━\u001b[0m\u001b[37m\u001b[0m \u001b[1m14s\u001b[0m 100ms/step - accuracy: 0.9866 - loss: 0.5920 - val_accuracy: 0.9191 - val_loss: 0.8619 - learning_rate: 3.0000e-04\n",
            "Epoch 25/150\n",
            "\u001b[1m139/139\u001b[0m \u001b[32m━━━━━━━━━━━━━━━━━━━━\u001b[0m\u001b[37m\u001b[0m \u001b[1m14s\u001b[0m 100ms/step - accuracy: 0.9836 - loss: 0.5789 - val_accuracy: 0.9263 - val_loss: 0.8088 - learning_rate: 3.0000e-04\n",
            "Epoch 26/150\n",
            "\u001b[1m139/139\u001b[0m \u001b[32m━━━━━━━━━━━━━━━━━━━━\u001b[0m\u001b[37m\u001b[0m \u001b[1m14s\u001b[0m 100ms/step - accuracy: 0.9812 - loss: 0.5707 - val_accuracy: 0.9119 - val_loss: 0.8319 - learning_rate: 3.0000e-04\n",
            "Epoch 27/150\n",
            "\u001b[1m139/139\u001b[0m \u001b[32m━━━━━━━━━━━━━━━━━━━━\u001b[0m\u001b[37m\u001b[0m \u001b[1m14s\u001b[0m 102ms/step - accuracy: 0.9879 - loss: 0.5324 - val_accuracy: 0.9281 - val_loss: 0.7905 - learning_rate: 3.0000e-04\n",
            "Epoch 28/150\n",
            "\u001b[1m139/139\u001b[0m \u001b[32m━━━━━━━━━━━━━━━━━━━━\u001b[0m\u001b[37m\u001b[0m \u001b[1m14s\u001b[0m 102ms/step - accuracy: 0.9939 - loss: 0.4985 - val_accuracy: 0.9047 - val_loss: 0.9280 - learning_rate: 3.0000e-04\n",
            "Epoch 29/150\n",
            "\u001b[1m139/139\u001b[0m \u001b[32m━━━━━━━━━━━━━━━━━━━━\u001b[0m\u001b[37m\u001b[0m \u001b[1m14s\u001b[0m 102ms/step - accuracy: 0.9825 - loss: 0.5132 - val_accuracy: 0.9083 - val_loss: 0.8304 - learning_rate: 3.0000e-04\n",
            "Epoch 30/150\n",
            "\u001b[1m139/139\u001b[0m \u001b[32m━━━━━━━━━━━━━━━━━━━━\u001b[0m\u001b[37m\u001b[0m \u001b[1m14s\u001b[0m 99ms/step - accuracy: 0.9824 - loss: 0.4871 - val_accuracy: 0.9227 - val_loss: 0.7982 - learning_rate: 3.0000e-04\n",
            "Epoch 31/150\n",
            "\u001b[1m139/139\u001b[0m \u001b[32m━━━━━━━━━━━━━━━━━━━━\u001b[0m\u001b[37m\u001b[0m \u001b[1m14s\u001b[0m 103ms/step - accuracy: 0.9846 - loss: 0.4698 - val_accuracy: 0.9191 - val_loss: 0.7774 - learning_rate: 3.0000e-04\n",
            "Epoch 32/150\n",
            "\u001b[1m139/139\u001b[0m \u001b[32m━━━━━━━━━━━━━━━━━━━━\u001b[0m\u001b[37m\u001b[0m \u001b[1m14s\u001b[0m 102ms/step - accuracy: 0.9957 - loss: 0.4340 - val_accuracy: 0.9083 - val_loss: 0.7982 - learning_rate: 3.0000e-04\n",
            "Epoch 33/150\n",
            "\u001b[1m139/139\u001b[0m \u001b[32m━━━━━━━━━━━━━━━━━━━━\u001b[0m\u001b[37m\u001b[0m \u001b[1m14s\u001b[0m 104ms/step - accuracy: 0.9839 - loss: 0.4453 - val_accuracy: 0.9191 - val_loss: 0.7709 - learning_rate: 3.0000e-04\n",
            "Epoch 34/150\n",
            "\u001b[1m139/139\u001b[0m \u001b[32m━━━━━━━━━━━━━━━━━━━━\u001b[0m\u001b[37m\u001b[0m \u001b[1m14s\u001b[0m 101ms/step - accuracy: 0.9864 - loss: 0.4300 - val_accuracy: 0.9047 - val_loss: 0.7615 - learning_rate: 3.0000e-04\n",
            "Epoch 35/150\n",
            "\u001b[1m139/139\u001b[0m \u001b[32m━━━━━━━━━━━━━━━━━━━━\u001b[0m\u001b[37m\u001b[0m \u001b[1m14s\u001b[0m 102ms/step - accuracy: 0.9837 - loss: 0.4151 - val_accuracy: 0.9011 - val_loss: 0.8178 - learning_rate: 3.0000e-04\n",
            "Epoch 36/150\n",
            "\u001b[1m139/139\u001b[0m \u001b[32m━━━━━━━━━━━━━━━━━━━━\u001b[0m\u001b[37m\u001b[0m \u001b[1m14s\u001b[0m 103ms/step - accuracy: 0.9781 - loss: 0.4208 - val_accuracy: 0.9299 - val_loss: 0.6453 - learning_rate: 3.0000e-04\n",
            "Epoch 37/150\n",
            "\u001b[1m139/139\u001b[0m \u001b[32m━━━━━━━━━━━━━━━━━━━━\u001b[0m\u001b[37m\u001b[0m \u001b[1m14s\u001b[0m 101ms/step - accuracy: 0.9853 - loss: 0.4049 - val_accuracy: 0.9191 - val_loss: 0.6974 - learning_rate: 3.0000e-04\n",
            "Epoch 38/150\n",
            "\u001b[1m139/139\u001b[0m \u001b[32m━━━━━━━━━━━━━━━━━━━━\u001b[0m\u001b[37m\u001b[0m \u001b[1m14s\u001b[0m 100ms/step - accuracy: 0.9807 - loss: 0.4009 - val_accuracy: 0.9227 - val_loss: 0.7098 - learning_rate: 3.0000e-04\n",
            "Epoch 39/150\n",
            "\u001b[1m139/139\u001b[0m \u001b[32m━━━━━━━━━━━━━━━━━━━━\u001b[0m\u001b[37m\u001b[0m \u001b[1m14s\u001b[0m 102ms/step - accuracy: 0.9853 - loss: 0.3758 - val_accuracy: 0.9245 - val_loss: 0.6824 - learning_rate: 3.0000e-04\n",
            "Epoch 40/150\n",
            "\u001b[1m139/139\u001b[0m \u001b[32m━━━━━━━━━━━━━━━━━━━━\u001b[0m\u001b[37m\u001b[0m \u001b[1m14s\u001b[0m 102ms/step - accuracy: 0.9916 - loss: 0.3470 - val_accuracy: 0.9101 - val_loss: 0.7105 - learning_rate: 3.0000e-04\n",
            "Epoch 41/150\n",
            "\u001b[1m139/139\u001b[0m \u001b[32m━━━━━━━━━━━━━━━━━━━━\u001b[0m\u001b[37m\u001b[0m \u001b[1m14s\u001b[0m 102ms/step - accuracy: 0.9874 - loss: 0.3442 - val_accuracy: 0.9155 - val_loss: 0.6837 - learning_rate: 3.0000e-04\n",
            "Epoch 42/150\n",
            "\u001b[1m139/139\u001b[0m \u001b[32m━━━━━━━━━━━━━━━━━━━━\u001b[0m\u001b[37m\u001b[0m \u001b[1m14s\u001b[0m 104ms/step - accuracy: 0.9879 - loss: 0.3384 - val_accuracy: 0.9173 - val_loss: 0.7108 - learning_rate: 3.0000e-04\n",
            "Epoch 43/150\n",
            "\u001b[1m139/139\u001b[0m \u001b[32m━━━━━━━━━━━━━━━━━━━━\u001b[0m\u001b[37m\u001b[0m \u001b[1m15s\u001b[0m 105ms/step - accuracy: 0.9866 - loss: 0.3292 - val_accuracy: 0.9155 - val_loss: 0.6998 - learning_rate: 3.0000e-04\n",
            "Epoch 44/150\n",
            "\u001b[1m139/139\u001b[0m \u001b[32m━━━━━━━━━━━━━━━━━━━━\u001b[0m\u001b[37m\u001b[0m \u001b[1m14s\u001b[0m 102ms/step - accuracy: 0.9898 - loss: 0.3120 - val_accuracy: 0.9317 - val_loss: 0.6765 - learning_rate: 3.0000e-04\n",
            "Epoch 45/150\n",
            "\u001b[1m139/139\u001b[0m \u001b[32m━━━━━━━━━━━━━━━━━━━━\u001b[0m\u001b[37m\u001b[0m \u001b[1m14s\u001b[0m 102ms/step - accuracy: 0.9928 - loss: 0.2982 - val_accuracy: 0.9065 - val_loss: 0.7794 - learning_rate: 3.0000e-04\n",
            "Epoch 46/150\n",
            "\u001b[1m139/139\u001b[0m \u001b[32m━━━━━━━━━━━━━━━━━━━━\u001b[0m\u001b[37m\u001b[0m \u001b[1m14s\u001b[0m 102ms/step - accuracy: 0.9855 - loss: 0.3174 - val_accuracy: 0.9353 - val_loss: 0.5950 - learning_rate: 3.0000e-04\n",
            "Epoch 47/150\n",
            "\u001b[1m139/139\u001b[0m \u001b[32m━━━━━━━━━━━━━━━━━━━━\u001b[0m\u001b[37m\u001b[0m \u001b[1m14s\u001b[0m 101ms/step - accuracy: 0.9917 - loss: 0.2918 - val_accuracy: 0.9191 - val_loss: 0.6547 - learning_rate: 3.0000e-04\n",
            "Epoch 48/150\n",
            "\u001b[1m139/139\u001b[0m \u001b[32m━━━━━━━━━━━━━━━━━━━━\u001b[0m\u001b[37m\u001b[0m \u001b[1m14s\u001b[0m 103ms/step - accuracy: 0.9844 - loss: 0.3007 - val_accuracy: 0.9155 - val_loss: 0.6623 - learning_rate: 3.0000e-04\n",
            "Epoch 49/150\n",
            "\u001b[1m139/139\u001b[0m \u001b[32m━━━━━━━━━━━━━━━━━━━━\u001b[0m\u001b[37m\u001b[0m \u001b[1m14s\u001b[0m 100ms/step - accuracy: 0.9842 - loss: 0.3066 - val_accuracy: 0.9227 - val_loss: 0.6409 - learning_rate: 3.0000e-04\n",
            "Epoch 50/150\n",
            "\u001b[1m139/139\u001b[0m \u001b[32m━━━━━━━━━━━━━━━━━━━━\u001b[0m\u001b[37m\u001b[0m \u001b[1m14s\u001b[0m 104ms/step - accuracy: 0.9910 - loss: 0.2809 - val_accuracy: 0.9155 - val_loss: 0.6187 - learning_rate: 3.0000e-04\n",
            "Epoch 51/150\n",
            "\u001b[1m139/139\u001b[0m \u001b[32m━━━━━━━━━━━━━━━━━━━━\u001b[0m\u001b[37m\u001b[0m \u001b[1m14s\u001b[0m 104ms/step - accuracy: 0.9771 - loss: 0.3007 - val_accuracy: 0.9263 - val_loss: 0.5865 - learning_rate: 3.0000e-04\n",
            "Epoch 52/150\n",
            "\u001b[1m139/139\u001b[0m \u001b[32m━━━━━━━━━━━━━━━━━━━━\u001b[0m\u001b[37m\u001b[0m \u001b[1m14s\u001b[0m 103ms/step - accuracy: 0.9889 - loss: 0.2823 - val_accuracy: 0.9209 - val_loss: 0.5815 - learning_rate: 3.0000e-04\n",
            "Epoch 53/150\n",
            "\u001b[1m139/139\u001b[0m \u001b[32m━━━━━━━━━━━━━━━━━━━━\u001b[0m\u001b[37m\u001b[0m \u001b[1m14s\u001b[0m 103ms/step - accuracy: 0.9962 - loss: 0.2515 - val_accuracy: 0.9281 - val_loss: 0.5465 - learning_rate: 3.0000e-04\n",
            "Epoch 54/150\n",
            "\u001b[1m139/139\u001b[0m \u001b[32m━━━━━━━━━━━━━━━━━━━━\u001b[0m\u001b[37m\u001b[0m \u001b[1m14s\u001b[0m 103ms/step - accuracy: 0.9934 - loss: 0.2441 - val_accuracy: 0.9047 - val_loss: 0.6193 - learning_rate: 3.0000e-04\n",
            "Epoch 55/150\n",
            "\u001b[1m139/139\u001b[0m \u001b[32m━━━━━━━━━━━━━━━━━━━━\u001b[0m\u001b[37m\u001b[0m \u001b[1m14s\u001b[0m 100ms/step - accuracy: 0.9885 - loss: 0.2557 - val_accuracy: 0.9281 - val_loss: 0.6510 - learning_rate: 3.0000e-04\n",
            "Epoch 56/150\n",
            "\u001b[1m139/139\u001b[0m \u001b[32m━━━━━━━━━━━━━━━━━━━━\u001b[0m\u001b[37m\u001b[0m \u001b[1m14s\u001b[0m 102ms/step - accuracy: 0.9919 - loss: 0.2415 - val_accuracy: 0.9299 - val_loss: 0.5415 - learning_rate: 3.0000e-04\n",
            "Epoch 57/150\n",
            "\u001b[1m139/139\u001b[0m \u001b[32m━━━━━━━━━━━━━━━━━━━━\u001b[0m\u001b[37m\u001b[0m \u001b[1m14s\u001b[0m 104ms/step - accuracy: 0.9890 - loss: 0.2492 - val_accuracy: 0.9442 - val_loss: 0.5561 - learning_rate: 3.0000e-04\n",
            "Epoch 58/150\n",
            "\u001b[1m139/139\u001b[0m \u001b[32m━━━━━━━━━━━━━━━━━━━━\u001b[0m\u001b[37m\u001b[0m \u001b[1m14s\u001b[0m 101ms/step - accuracy: 0.9927 - loss: 0.2315 - val_accuracy: 0.9424 - val_loss: 0.5667 - learning_rate: 3.0000e-04\n",
            "Epoch 59/150\n",
            "\u001b[1m139/139\u001b[0m \u001b[32m━━━━━━━━━━━━━━━━━━━━\u001b[0m\u001b[37m\u001b[0m \u001b[1m14s\u001b[0m 102ms/step - accuracy: 0.9959 - loss: 0.2185 - val_accuracy: 0.9335 - val_loss: 0.5605 - learning_rate: 3.0000e-04\n",
            "Epoch 60/150\n",
            "\u001b[1m139/139\u001b[0m \u001b[32m━━━━━━━━━━━━━━━━━━━━\u001b[0m\u001b[37m\u001b[0m \u001b[1m14s\u001b[0m 103ms/step - accuracy: 0.9950 - loss: 0.2154 - val_accuracy: 0.9353 - val_loss: 0.4970 - learning_rate: 3.0000e-04\n",
            "Epoch 61/150\n",
            "\u001b[1m139/139\u001b[0m \u001b[32m━━━━━━━━━━━━━━━━━━━━\u001b[0m\u001b[37m\u001b[0m \u001b[1m14s\u001b[0m 102ms/step - accuracy: 0.9904 - loss: 0.2251 - val_accuracy: 0.9317 - val_loss: 0.5393 - learning_rate: 3.0000e-04\n",
            "Epoch 62/150\n",
            "\u001b[1m139/139\u001b[0m \u001b[32m━━━━━━━━━━━━━━━━━━━━\u001b[0m\u001b[37m\u001b[0m \u001b[1m14s\u001b[0m 102ms/step - accuracy: 0.9873 - loss: 0.2324 - val_accuracy: 0.9406 - val_loss: 0.5141 - learning_rate: 3.0000e-04\n",
            "Epoch 63/150\n",
            "\u001b[1m139/139\u001b[0m \u001b[32m━━━━━━━━━━━━━━━━━━━━\u001b[0m\u001b[37m\u001b[0m \u001b[1m14s\u001b[0m 102ms/step - accuracy: 0.9890 - loss: 0.2308 - val_accuracy: 0.9209 - val_loss: 0.5273 - learning_rate: 3.0000e-04\n",
            "Epoch 64/150\n",
            "\u001b[1m139/139\u001b[0m \u001b[32m━━━━━━━━━━━━━━━━━━━━\u001b[0m\u001b[37m\u001b[0m \u001b[1m14s\u001b[0m 103ms/step - accuracy: 0.9885 - loss: 0.2290 - val_accuracy: 0.9245 - val_loss: 0.4946 - learning_rate: 3.0000e-04\n",
            "Epoch 65/150\n",
            "\u001b[1m139/139\u001b[0m \u001b[32m━━━━━━━━━━━━━━━━━━━━\u001b[0m\u001b[37m\u001b[0m \u001b[1m15s\u001b[0m 106ms/step - accuracy: 0.9930 - loss: 0.2119 - val_accuracy: 0.9047 - val_loss: 0.6083 - learning_rate: 3.0000e-04\n",
            "Epoch 66/150\n",
            "\u001b[1m139/139\u001b[0m \u001b[32m━━━━━━━━━━━━━━━━━━━━\u001b[0m\u001b[37m\u001b[0m \u001b[1m14s\u001b[0m 101ms/step - accuracy: 0.9943 - loss: 0.2105 - val_accuracy: 0.9460 - val_loss: 0.5120 - learning_rate: 3.0000e-04\n",
            "Epoch 67/150\n",
            "\u001b[1m139/139\u001b[0m \u001b[32m━━━━━━━━━━━━━━━━━━━━\u001b[0m\u001b[37m\u001b[0m \u001b[1m14s\u001b[0m 102ms/step - accuracy: 0.9947 - loss: 0.2054 - val_accuracy: 0.9353 - val_loss: 0.5394 - learning_rate: 3.0000e-04\n",
            "Epoch 68/150\n",
            "\u001b[1m139/139\u001b[0m \u001b[32m━━━━━━━━━━━━━━━━━━━━\u001b[0m\u001b[37m\u001b[0m \u001b[1m14s\u001b[0m 102ms/step - accuracy: 0.9942 - loss: 0.1955 - val_accuracy: 0.9353 - val_loss: 0.5643 - learning_rate: 3.0000e-04\n",
            "Epoch 69/150\n",
            "\u001b[1m139/139\u001b[0m \u001b[32m━━━━━━━━━━━━━━━━━━━━\u001b[0m\u001b[37m\u001b[0m \u001b[1m14s\u001b[0m 101ms/step - accuracy: 0.9909 - loss: 0.2058 - val_accuracy: 0.9263 - val_loss: 0.5738 - learning_rate: 3.0000e-04\n",
            "Epoch 70/150\n",
            "\u001b[1m139/139\u001b[0m \u001b[32m━━━━━━━━━━━━━━━━━━━━\u001b[0m\u001b[37m\u001b[0m \u001b[1m14s\u001b[0m 100ms/step - accuracy: 0.9799 - loss: 0.2414 - val_accuracy: 0.9263 - val_loss: 0.5141 - learning_rate: 3.0000e-04\n",
            "Epoch 71/150\n",
            "\u001b[1m139/139\u001b[0m \u001b[32m━━━━━━━━━━━━━━━━━━━━\u001b[0m\u001b[37m\u001b[0m \u001b[1m14s\u001b[0m 102ms/step - accuracy: 0.9937 - loss: 0.2113 - val_accuracy: 0.9245 - val_loss: 0.5410 - learning_rate: 3.0000e-04\n",
            "Epoch 72/150\n",
            "\u001b[1m139/139\u001b[0m \u001b[32m━━━━━━━━━━━━━━━━━━━━\u001b[0m\u001b[37m\u001b[0m \u001b[1m14s\u001b[0m 100ms/step - accuracy: 0.9946 - loss: 0.2011 - val_accuracy: 0.9388 - val_loss: 0.5119 - learning_rate: 3.0000e-04\n",
            "Epoch 73/150\n",
            "\u001b[1m139/139\u001b[0m \u001b[32m━━━━━━━━━━━━━━━━━━━━\u001b[0m\u001b[37m\u001b[0m \u001b[1m14s\u001b[0m 103ms/step - accuracy: 0.9951 - loss: 0.1903 - val_accuracy: 0.9281 - val_loss: 0.5695 - learning_rate: 3.0000e-04\n",
            "Epoch 74/150\n",
            "\u001b[1m139/139\u001b[0m \u001b[32m━━━━━━━━━━━━━━━━━━━━\u001b[0m\u001b[37m\u001b[0m \u001b[1m14s\u001b[0m 101ms/step - accuracy: 0.9928 - loss: 0.1990 - val_accuracy: 0.9137 - val_loss: 0.5797 - learning_rate: 3.0000e-04\n",
            "Epoch 75/150\n",
            "\u001b[1m139/139\u001b[0m \u001b[32m━━━━━━━━━━━━━━━━━━━━\u001b[0m\u001b[37m\u001b[0m \u001b[1m14s\u001b[0m 102ms/step - accuracy: 0.9965 - loss: 0.1811 - val_accuracy: 0.9137 - val_loss: 0.5948 - learning_rate: 3.0000e-04\n",
            "Epoch 76/150\n",
            "\u001b[1m139/139\u001b[0m \u001b[32m━━━━━━━━━━━━━━━━━━━━\u001b[0m\u001b[37m\u001b[0m \u001b[1m14s\u001b[0m 102ms/step - accuracy: 0.9921 - loss: 0.1777 - val_accuracy: 0.9137 - val_loss: 0.5876 - learning_rate: 3.0000e-04\n",
            "Epoch 77/150\n",
            "\u001b[1m139/139\u001b[0m \u001b[32m━━━━━━━━━━━━━━━━━━━━\u001b[0m\u001b[37m\u001b[0m \u001b[1m14s\u001b[0m 103ms/step - accuracy: 0.9870 - loss: 0.1958 - val_accuracy: 0.9245 - val_loss: 0.5525 - learning_rate: 3.0000e-04\n",
            "Epoch 78/150\n",
            "\u001b[1m139/139\u001b[0m \u001b[32m━━━━━━━━━━━━━━━━━━━━\u001b[0m\u001b[37m\u001b[0m \u001b[1m14s\u001b[0m 101ms/step - accuracy: 0.9954 - loss: 0.1771 - val_accuracy: 0.9227 - val_loss: 0.5078 - learning_rate: 3.0000e-04\n",
            "Epoch 79/150\n",
            "\u001b[1m139/139\u001b[0m \u001b[32m━━━━━━━━━━━━━━━━━━━━\u001b[0m\u001b[37m\u001b[0m \u001b[1m14s\u001b[0m 102ms/step - accuracy: 0.9967 - loss: 0.1666 - val_accuracy: 0.9299 - val_loss: 0.6305 - learning_rate: 3.0000e-04\n",
            "Epoch 80/150\n",
            "\u001b[1m139/139\u001b[0m \u001b[32m━━━━━━━━━━━━━━━━━━━━\u001b[0m\u001b[37m\u001b[0m \u001b[1m14s\u001b[0m 102ms/step - accuracy: 0.9901 - loss: 0.1873 - val_accuracy: 0.9227 - val_loss: 0.6897 - learning_rate: 3.0000e-04\n",
            "Epoch 81/150\n",
            "\u001b[1m139/139\u001b[0m \u001b[32m━━━━━━━━━━━━━━━━━━━━\u001b[0m\u001b[37m\u001b[0m \u001b[1m14s\u001b[0m 103ms/step - accuracy: 0.9839 - loss: 0.1999 - val_accuracy: 0.9209 - val_loss: 0.5270 - learning_rate: 3.0000e-04\n",
            "Epoch 82/150\n",
            "\u001b[1m139/139\u001b[0m \u001b[32m━━━━━━━━━━━━━━━━━━━━\u001b[0m\u001b[37m\u001b[0m \u001b[1m14s\u001b[0m 103ms/step - accuracy: 0.9937 - loss: 0.1759 - val_accuracy: 0.9245 - val_loss: 0.5696 - learning_rate: 3.0000e-04\n",
            "Epoch 83/150\n",
            "\u001b[1m139/139\u001b[0m \u001b[32m━━━━━━━━━━━━━━━━━━━━\u001b[0m\u001b[37m\u001b[0m \u001b[1m14s\u001b[0m 102ms/step - accuracy: 0.9953 - loss: 0.1782 - val_accuracy: 0.9281 - val_loss: 0.5654 - learning_rate: 3.0000e-04\n",
            "Epoch 84/150\n",
            "\u001b[1m139/139\u001b[0m \u001b[32m━━━━━━━━━━━━━━━━━━━━\u001b[0m\u001b[37m\u001b[0m \u001b[1m14s\u001b[0m 100ms/step - accuracy: 0.9941 - loss: 0.1751 - val_accuracy: 0.9209 - val_loss: 0.5066 - learning_rate: 3.0000e-04\n",
            "Epoch 85/150\n",
            "\u001b[1m139/139\u001b[0m \u001b[32m━━━━━━━━━━━━━━━━━━━━\u001b[0m\u001b[37m\u001b[0m \u001b[1m14s\u001b[0m 100ms/step - accuracy: 0.9890 - loss: 0.1805 - val_accuracy: 0.9263 - val_loss: 0.5424 - learning_rate: 3.0000e-04\n",
            "Epoch 86/150\n",
            "\u001b[1m139/139\u001b[0m \u001b[32m━━━━━━━━━━━━━━━━━━━━\u001b[0m\u001b[37m\u001b[0m \u001b[1m14s\u001b[0m 101ms/step - accuracy: 0.9924 - loss: 0.1718 - val_accuracy: 0.9317 - val_loss: 0.6100 - learning_rate: 3.0000e-04\n",
            "Epoch 87/150\n",
            "\u001b[1m139/139\u001b[0m \u001b[32m━━━━━━━━━━━━━━━━━━━━\u001b[0m\u001b[37m\u001b[0m \u001b[1m14s\u001b[0m 101ms/step - accuracy: 0.9940 - loss: 0.1688 - val_accuracy: 0.9263 - val_loss: 0.5918 - learning_rate: 3.0000e-04\n",
            "Epoch 88/150\n",
            "\u001b[1m139/139\u001b[0m \u001b[32m━━━━━━━━━━━━━━━━━━━━\u001b[0m\u001b[37m\u001b[0m \u001b[1m14s\u001b[0m 102ms/step - accuracy: 0.9881 - loss: 0.1779 - val_accuracy: 0.9317 - val_loss: 0.5340 - learning_rate: 3.0000e-04\n",
            "Epoch 89/150\n",
            "\u001b[1m139/139\u001b[0m \u001b[32m━━━━━━━━━━━━━━━━━━━━\u001b[0m\u001b[37m\u001b[0m \u001b[1m14s\u001b[0m 103ms/step - accuracy: 0.9829 - loss: 0.2021 - val_accuracy: 0.9263 - val_loss: 0.5626 - learning_rate: 3.0000e-04\n",
            "Epoch 90/150\n",
            "\u001b[1m139/139\u001b[0m \u001b[32m━━━━━━━━━━━━━━━━━━━━\u001b[0m\u001b[37m\u001b[0m \u001b[1m14s\u001b[0m 100ms/step - accuracy: 0.9984 - loss: 0.1643 - val_accuracy: 0.9442 - val_loss: 0.4602 - learning_rate: 3.0000e-04\n",
            "Epoch 91/150\n",
            "\u001b[1m139/139\u001b[0m \u001b[32m━━━━━━━━━━━━━━━━━━━━\u001b[0m\u001b[37m\u001b[0m \u001b[1m14s\u001b[0m 99ms/step - accuracy: 0.9983 - loss: 0.1611 - val_accuracy: 0.9353 - val_loss: 0.5214 - learning_rate: 3.0000e-04\n",
            "Epoch 92/150\n",
            "\u001b[1m139/139\u001b[0m \u001b[32m━━━━━━━━━━━━━━━━━━━━\u001b[0m\u001b[37m\u001b[0m \u001b[1m14s\u001b[0m 102ms/step - accuracy: 0.9967 - loss: 0.1555 - val_accuracy: 0.9227 - val_loss: 0.5788 - learning_rate: 3.0000e-04\n",
            "Epoch 93/150\n",
            "\u001b[1m139/139\u001b[0m \u001b[32m━━━━━━━━━━━━━━━━━━━━\u001b[0m\u001b[37m\u001b[0m \u001b[1m14s\u001b[0m 103ms/step - accuracy: 0.9960 - loss: 0.1476 - val_accuracy: 0.9299 - val_loss: 0.5312 - learning_rate: 3.0000e-04\n",
            "Epoch 94/150\n",
            "\u001b[1m139/139\u001b[0m \u001b[32m━━━━━━━━━━━━━━━━━━━━\u001b[0m\u001b[37m\u001b[0m \u001b[1m14s\u001b[0m 102ms/step - accuracy: 0.9912 - loss: 0.1609 - val_accuracy: 0.9317 - val_loss: 0.5094 - learning_rate: 3.0000e-04\n",
            "Epoch 95/150\n",
            "\u001b[1m139/139\u001b[0m \u001b[32m━━━━━━━━━━━━━━━━━━━━\u001b[0m\u001b[37m\u001b[0m \u001b[1m14s\u001b[0m 102ms/step - accuracy: 0.9935 - loss: 0.1552 - val_accuracy: 0.9191 - val_loss: 0.6027 - learning_rate: 3.0000e-04\n",
            "Epoch 96/150\n",
            "\u001b[1m139/139\u001b[0m \u001b[32m━━━━━━━━━━━━━━━━━━━━\u001b[0m\u001b[37m\u001b[0m \u001b[1m14s\u001b[0m 101ms/step - accuracy: 0.9943 - loss: 0.1525 - val_accuracy: 0.9335 - val_loss: 0.5348 - learning_rate: 3.0000e-04\n"
          ]
        }
      ]
    },
    {
      "cell_type": "code",
      "source": [
        "# Evaluate\n",
        "y_pred = (final_model.predict([X_test_selected_cnn, X_test_selected]) > 0.5).astype(int)\n",
        "print(\"Classification Report:\")\n",
        "print(classification_report(y_test, y_pred))\n",
        "print(\"Confusion Matrix:\")\n",
        "print(confusion_matrix(y_test, y_pred))\n",
        "\n",
        "# Final Accuracy\n",
        "_, accuracy = final_model.evaluate([X_test_selected_cnn, X_test_selected], y_test)\n",
        "print(f'Final Test Accuracy: {accuracy * 100:.2f}%')"
      ],
      "metadata": {
        "colab": {
          "base_uri": "https://localhost:8080/"
        },
        "id": "61ICChQGzITp",
        "outputId": "874ade16-c95d-45e8-ca89-b902dd531e7b"
      },
      "execution_count": 19,
      "outputs": [
        {
          "output_type": "stream",
          "name": "stdout",
          "text": [
            "\u001b[1m18/18\u001b[0m \u001b[32m━━━━━━━━━━━━━━━━━━━━\u001b[0m\u001b[37m\u001b[0m \u001b[1m0s\u001b[0m 14ms/step\n",
            "Classification Report:\n",
            "              precision    recall  f1-score   support\n",
            "\n",
            "           0       0.96      0.93      0.95       278\n",
            "           1       0.93      0.96      0.95       278\n",
            "\n",
            "    accuracy                           0.95       556\n",
            "   macro avg       0.95      0.95      0.95       556\n",
            "weighted avg       0.95      0.95      0.95       556\n",
            "\n",
            "Confusion Matrix:\n",
            "[[258  20]\n",
            " [ 10 268]]\n",
            "\u001b[1m18/18\u001b[0m \u001b[32m━━━━━━━━━━━━━━━━━━━━\u001b[0m\u001b[37m\u001b[0m \u001b[1m0s\u001b[0m 9ms/step - accuracy: 0.9363 - loss: 0.5630 \n",
            "Final Test Accuracy: 94.60%\n"
          ]
        }
      ]
    },
    {
      "cell_type": "code",
      "source": [],
      "metadata": {
        "id": "CXcPhvSX3ReF"
      },
      "execution_count": 19,
      "outputs": []
    }
  ]
}